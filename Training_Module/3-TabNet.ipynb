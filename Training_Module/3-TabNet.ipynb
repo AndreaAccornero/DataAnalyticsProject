{
 "cells": [
  {
   "cell_type": "markdown",
   "metadata": {},
   "source": [
    "# Prove"
   ]
  },
  {
   "cell_type": "code",
   "execution_count": null,
   "metadata": {},
   "outputs": [],
   "source": [
    "import pandas as pd\n",
    "from sklearn.model_selection import train_test_split\n",
    "from sklearn.preprocessing import MinMaxScaler\n",
    "from sklearn.metrics import mean_squared_error, r2_score\n",
    "from pytorch_tabular import TabularModel\n",
    "from pytorch_tabular.models import TabNetModelConfig\n",
    "from pytorch_tabular.config import (\n",
    "    DataConfig,\n",
    "    OptimizerConfig,\n",
    "    TrainerConfig,\n",
    "    ExperimentConfig,\n",
    ")\n",
    "import torch\n",
    "\n",
    "FILENAME = \"train.csv\"\n",
    "df = pd.read_csv(FILENAME)\n",
    "\n",
    "X = df.drop(\"Year\", axis=1)\n",
    "y = df[\"Year\"]\n",
    "\n",
    "# Esegui lo split in set di addestramento, di test e di validazione\n",
    "from sklearn.model_selection import train_test_split\n",
    "train, test = train_test_split(df, random_state=42, test_size=0.2)\n",
    "train, val = train_test_split(train, random_state=42, test_size=0.2)\n",
    "\n",
    "# Configurazione del modello TabNet per la regressione\n",
    "data_config = DataConfig(\n",
    "    target=[\"Year\"],\n",
    "    continuous_cols=X.columns.tolist(),\n",
    ")\n",
    "\n",
    "optimizer_config = OptimizerConfig()  # Imposta manualmente il tasso di apprendimento\n",
    "\n",
    "model_config = TabNetModelConfig(\n",
    "    task=\"regression\",\n",
    "    n_d=16,       # Riduci il numero di decisioni\n",
    "    n_a=16,       # Riduci il numero di attenzioni\n",
    "    n_steps=3,    # Riduci il numero di passaggi\n",
    "    gamma=1.0,    # Modifica il valore di gamma\n",
    "    metrics=['mean_squared_error', 'mean_absolute_error', 'mean_absolute_percentage_error', 'r2_score'],\n",
    ")\n",
    "\n",
    "trainer_config = TrainerConfig(\n",
    "    batch_size=256,\n",
    "    auto_lr_find=False,  # Disabilita la ricerca automatica del tasso di apprendimento\n",
    "    max_epochs=100,\n",
    "    early_stopping_patience=10,\n",
    "    accelerator=\"gpu\"\n",
    "    )\n",
    "\n",
    "# Creazione e addestramento del modello TabNet\n",
    "tabular_model = TabularModel(\n",
    "    data_config=data_config,\n",
    "    model_config=model_config,\n",
    "    optimizer_config=optimizer_config,\n",
    "    trainer_config=trainer_config,\n",
    ")\n",
    "\n",
    "# Aumenta il numero di workers nei DataLoader\n",
    "tabular_model.fit(train=train, validation=val)\n",
    "\n",
    "torch.save(tabular_model, open(\"tabNet.save\", 'wb'))\n",
    "\n",
    "result = tabular_model.evaluate(test)\n",
    "pred_df = tabular_model.predict(test)\n"
   ]
  }
 ],
 "metadata": {
  "kernelspec": {
   "display_name": "base",
   "language": "python",
   "name": "python3"
  },
  "language_info": {
   "codemirror_mode": {
    "name": "ipython",
    "version": 3
   },
   "file_extension": ".py",
   "mimetype": "text/x-python",
   "name": "python",
   "nbconvert_exporter": "python",
   "pygments_lexer": "ipython3",
   "version": "3.9.6"
  }
 },
 "nbformat": 4,
 "nbformat_minor": 2
}
