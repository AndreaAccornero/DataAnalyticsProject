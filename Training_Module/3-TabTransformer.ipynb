{
 "cells": [
  {
   "cell_type": "code",
   "execution_count": 8,
   "metadata": {},
   "outputs": [
    {
     "data": {
      "text/html": [
       "<pre style=\"white-space:pre;overflow-x:auto;line-height:normal;font-family:Menlo,'DejaVu Sans Mono',consolas,'Courier New',monospace\"><span style=\"font-weight: bold\">[</span>\n",
       "    <span style=\"color: #008000; text-decoration-color: #008000\">'S0'</span>,\n",
       "    <span style=\"color: #008000; text-decoration-color: #008000\">'S1'</span>,\n",
       "    <span style=\"color: #008000; text-decoration-color: #008000\">'S2'</span>,\n",
       "    <span style=\"color: #008000; text-decoration-color: #008000\">'S3'</span>,\n",
       "    <span style=\"color: #008000; text-decoration-color: #008000\">'S4'</span>,\n",
       "    <span style=\"color: #008000; text-decoration-color: #008000\">'S5'</span>,\n",
       "    <span style=\"color: #008000; text-decoration-color: #008000\">'S6'</span>,\n",
       "    <span style=\"color: #008000; text-decoration-color: #008000\">'S7'</span>,\n",
       "    <span style=\"color: #008000; text-decoration-color: #008000\">'S8'</span>,\n",
       "    <span style=\"color: #008000; text-decoration-color: #008000\">'S9'</span>,\n",
       "    <span style=\"color: #008000; text-decoration-color: #008000\">'S10'</span>,\n",
       "    <span style=\"color: #008000; text-decoration-color: #008000\">'S11'</span>,\n",
       "    <span style=\"color: #008000; text-decoration-color: #008000\">'S12'</span>,\n",
       "    <span style=\"color: #008000; text-decoration-color: #008000\">'S13'</span>,\n",
       "    <span style=\"color: #008000; text-decoration-color: #008000\">'S14'</span>,\n",
       "    <span style=\"color: #008000; text-decoration-color: #008000\">'S15'</span>,\n",
       "    <span style=\"color: #008000; text-decoration-color: #008000\">'S16'</span>,\n",
       "    <span style=\"color: #008000; text-decoration-color: #008000\">'S17'</span>,\n",
       "    <span style=\"color: #008000; text-decoration-color: #008000\">'S18'</span>,\n",
       "    <span style=\"color: #008000; text-decoration-color: #008000\">'S19'</span>,\n",
       "    <span style=\"color: #008000; text-decoration-color: #008000\">'S20'</span>,\n",
       "    <span style=\"color: #008000; text-decoration-color: #008000\">'S21'</span>,\n",
       "    <span style=\"color: #008000; text-decoration-color: #008000\">'S22'</span>,\n",
       "    <span style=\"color: #008000; text-decoration-color: #008000\">'S23'</span>,\n",
       "    <span style=\"color: #008000; text-decoration-color: #008000\">'S24'</span>,\n",
       "    <span style=\"color: #008000; text-decoration-color: #008000\">'S25'</span>,\n",
       "    <span style=\"color: #008000; text-decoration-color: #008000\">'S26'</span>,\n",
       "    <span style=\"color: #008000; text-decoration-color: #008000\">'S27'</span>,\n",
       "    <span style=\"color: #008000; text-decoration-color: #008000\">'S28'</span>,\n",
       "    <span style=\"color: #008000; text-decoration-color: #008000\">'S29'</span>,\n",
       "    <span style=\"color: #008000; text-decoration-color: #008000\">'S30'</span>,\n",
       "    <span style=\"color: #008000; text-decoration-color: #008000\">'S31'</span>,\n",
       "    <span style=\"color: #008000; text-decoration-color: #008000\">'S32'</span>,\n",
       "    <span style=\"color: #008000; text-decoration-color: #008000\">'S33'</span>,\n",
       "    <span style=\"color: #008000; text-decoration-color: #008000\">'S34'</span>,\n",
       "    <span style=\"color: #008000; text-decoration-color: #008000\">'S35'</span>,\n",
       "    <span style=\"color: #008000; text-decoration-color: #008000\">'S36'</span>,\n",
       "    <span style=\"color: #008000; text-decoration-color: #008000\">'S37'</span>,\n",
       "    <span style=\"color: #008000; text-decoration-color: #008000\">'S38'</span>,\n",
       "    <span style=\"color: #008000; text-decoration-color: #008000\">'S39'</span>,\n",
       "    <span style=\"color: #008000; text-decoration-color: #008000\">'S40'</span>,\n",
       "    <span style=\"color: #008000; text-decoration-color: #008000\">'S41'</span>,\n",
       "    <span style=\"color: #008000; text-decoration-color: #008000\">'S42'</span>,\n",
       "    <span style=\"color: #008000; text-decoration-color: #008000\">'S43'</span>,\n",
       "    <span style=\"color: #008000; text-decoration-color: #008000\">'S44'</span>,\n",
       "    <span style=\"color: #008000; text-decoration-color: #008000\">'S45'</span>,\n",
       "    <span style=\"color: #008000; text-decoration-color: #008000\">'S46'</span>,\n",
       "    <span style=\"color: #008000; text-decoration-color: #008000\">'S47'</span>,\n",
       "    <span style=\"color: #008000; text-decoration-color: #008000\">'S48'</span>,\n",
       "    <span style=\"color: #008000; text-decoration-color: #008000\">'S49'</span>,\n",
       "    <span style=\"color: #008000; text-decoration-color: #008000\">'S50'</span>,\n",
       "    <span style=\"color: #008000; text-decoration-color: #008000\">'S51'</span>,\n",
       "    <span style=\"color: #008000; text-decoration-color: #008000\">'S52'</span>,\n",
       "    <span style=\"color: #008000; text-decoration-color: #008000\">'S53'</span>,\n",
       "    <span style=\"color: #008000; text-decoration-color: #008000\">'S54'</span>,\n",
       "    <span style=\"color: #008000; text-decoration-color: #008000\">'S55'</span>,\n",
       "    <span style=\"color: #008000; text-decoration-color: #008000\">'S56'</span>,\n",
       "    <span style=\"color: #008000; text-decoration-color: #008000\">'S57'</span>,\n",
       "    <span style=\"color: #008000; text-decoration-color: #008000\">'S58'</span>,\n",
       "    <span style=\"color: #008000; text-decoration-color: #008000\">'S59'</span>,\n",
       "    <span style=\"color: #008000; text-decoration-color: #008000\">'S60'</span>,\n",
       "    <span style=\"color: #008000; text-decoration-color: #008000\">'S61'</span>,\n",
       "    <span style=\"color: #008000; text-decoration-color: #008000\">'S62'</span>,\n",
       "    <span style=\"color: #008000; text-decoration-color: #008000\">'S63'</span>,\n",
       "    <span style=\"color: #008000; text-decoration-color: #008000\">'S64'</span>,\n",
       "    <span style=\"color: #008000; text-decoration-color: #008000\">'S65'</span>,\n",
       "    <span style=\"color: #008000; text-decoration-color: #008000\">'S66'</span>,\n",
       "    <span style=\"color: #008000; text-decoration-color: #008000\">'S67'</span>,\n",
       "    <span style=\"color: #008000; text-decoration-color: #008000\">'S68'</span>,\n",
       "    <span style=\"color: #008000; text-decoration-color: #008000\">'S69'</span>,\n",
       "    <span style=\"color: #008000; text-decoration-color: #008000\">'S70'</span>,\n",
       "    <span style=\"color: #008000; text-decoration-color: #008000\">'S71'</span>,\n",
       "    <span style=\"color: #008000; text-decoration-color: #008000\">'S72'</span>,\n",
       "    <span style=\"color: #008000; text-decoration-color: #008000\">'S73'</span>,\n",
       "    <span style=\"color: #008000; text-decoration-color: #008000\">'S74'</span>,\n",
       "    <span style=\"color: #008000; text-decoration-color: #008000\">'S75'</span>,\n",
       "    <span style=\"color: #008000; text-decoration-color: #008000\">'S76'</span>,\n",
       "    <span style=\"color: #008000; text-decoration-color: #008000\">'S77'</span>,\n",
       "    <span style=\"color: #008000; text-decoration-color: #008000\">'S78'</span>,\n",
       "    <span style=\"color: #008000; text-decoration-color: #008000\">'S79'</span>,\n",
       "    <span style=\"color: #008000; text-decoration-color: #008000\">'S80'</span>,\n",
       "    <span style=\"color: #008000; text-decoration-color: #008000\">'S81'</span>,\n",
       "    <span style=\"color: #008000; text-decoration-color: #008000\">'S82'</span>,\n",
       "    <span style=\"color: #008000; text-decoration-color: #008000\">'S83'</span>,\n",
       "    <span style=\"color: #008000; text-decoration-color: #008000\">'S84'</span>,\n",
       "    <span style=\"color: #008000; text-decoration-color: #008000\">'S85'</span>,\n",
       "    <span style=\"color: #008000; text-decoration-color: #008000\">'S86'</span>,\n",
       "    <span style=\"color: #008000; text-decoration-color: #008000\">'S87'</span>,\n",
       "    <span style=\"color: #008000; text-decoration-color: #008000\">'S88'</span>,\n",
       "    <span style=\"color: #008000; text-decoration-color: #008000\">'S89'</span>\n",
       "<span style=\"font-weight: bold\">]</span>\n",
       "</pre>\n"
      ],
      "text/plain": [
       "\u001b[1m[\u001b[0m\n",
       "    \u001b[32m'S0'\u001b[0m,\n",
       "    \u001b[32m'S1'\u001b[0m,\n",
       "    \u001b[32m'S2'\u001b[0m,\n",
       "    \u001b[32m'S3'\u001b[0m,\n",
       "    \u001b[32m'S4'\u001b[0m,\n",
       "    \u001b[32m'S5'\u001b[0m,\n",
       "    \u001b[32m'S6'\u001b[0m,\n",
       "    \u001b[32m'S7'\u001b[0m,\n",
       "    \u001b[32m'S8'\u001b[0m,\n",
       "    \u001b[32m'S9'\u001b[0m,\n",
       "    \u001b[32m'S10'\u001b[0m,\n",
       "    \u001b[32m'S11'\u001b[0m,\n",
       "    \u001b[32m'S12'\u001b[0m,\n",
       "    \u001b[32m'S13'\u001b[0m,\n",
       "    \u001b[32m'S14'\u001b[0m,\n",
       "    \u001b[32m'S15'\u001b[0m,\n",
       "    \u001b[32m'S16'\u001b[0m,\n",
       "    \u001b[32m'S17'\u001b[0m,\n",
       "    \u001b[32m'S18'\u001b[0m,\n",
       "    \u001b[32m'S19'\u001b[0m,\n",
       "    \u001b[32m'S20'\u001b[0m,\n",
       "    \u001b[32m'S21'\u001b[0m,\n",
       "    \u001b[32m'S22'\u001b[0m,\n",
       "    \u001b[32m'S23'\u001b[0m,\n",
       "    \u001b[32m'S24'\u001b[0m,\n",
       "    \u001b[32m'S25'\u001b[0m,\n",
       "    \u001b[32m'S26'\u001b[0m,\n",
       "    \u001b[32m'S27'\u001b[0m,\n",
       "    \u001b[32m'S28'\u001b[0m,\n",
       "    \u001b[32m'S29'\u001b[0m,\n",
       "    \u001b[32m'S30'\u001b[0m,\n",
       "    \u001b[32m'S31'\u001b[0m,\n",
       "    \u001b[32m'S32'\u001b[0m,\n",
       "    \u001b[32m'S33'\u001b[0m,\n",
       "    \u001b[32m'S34'\u001b[0m,\n",
       "    \u001b[32m'S35'\u001b[0m,\n",
       "    \u001b[32m'S36'\u001b[0m,\n",
       "    \u001b[32m'S37'\u001b[0m,\n",
       "    \u001b[32m'S38'\u001b[0m,\n",
       "    \u001b[32m'S39'\u001b[0m,\n",
       "    \u001b[32m'S40'\u001b[0m,\n",
       "    \u001b[32m'S41'\u001b[0m,\n",
       "    \u001b[32m'S42'\u001b[0m,\n",
       "    \u001b[32m'S43'\u001b[0m,\n",
       "    \u001b[32m'S44'\u001b[0m,\n",
       "    \u001b[32m'S45'\u001b[0m,\n",
       "    \u001b[32m'S46'\u001b[0m,\n",
       "    \u001b[32m'S47'\u001b[0m,\n",
       "    \u001b[32m'S48'\u001b[0m,\n",
       "    \u001b[32m'S49'\u001b[0m,\n",
       "    \u001b[32m'S50'\u001b[0m,\n",
       "    \u001b[32m'S51'\u001b[0m,\n",
       "    \u001b[32m'S52'\u001b[0m,\n",
       "    \u001b[32m'S53'\u001b[0m,\n",
       "    \u001b[32m'S54'\u001b[0m,\n",
       "    \u001b[32m'S55'\u001b[0m,\n",
       "    \u001b[32m'S56'\u001b[0m,\n",
       "    \u001b[32m'S57'\u001b[0m,\n",
       "    \u001b[32m'S58'\u001b[0m,\n",
       "    \u001b[32m'S59'\u001b[0m,\n",
       "    \u001b[32m'S60'\u001b[0m,\n",
       "    \u001b[32m'S61'\u001b[0m,\n",
       "    \u001b[32m'S62'\u001b[0m,\n",
       "    \u001b[32m'S63'\u001b[0m,\n",
       "    \u001b[32m'S64'\u001b[0m,\n",
       "    \u001b[32m'S65'\u001b[0m,\n",
       "    \u001b[32m'S66'\u001b[0m,\n",
       "    \u001b[32m'S67'\u001b[0m,\n",
       "    \u001b[32m'S68'\u001b[0m,\n",
       "    \u001b[32m'S69'\u001b[0m,\n",
       "    \u001b[32m'S70'\u001b[0m,\n",
       "    \u001b[32m'S71'\u001b[0m,\n",
       "    \u001b[32m'S72'\u001b[0m,\n",
       "    \u001b[32m'S73'\u001b[0m,\n",
       "    \u001b[32m'S74'\u001b[0m,\n",
       "    \u001b[32m'S75'\u001b[0m,\n",
       "    \u001b[32m'S76'\u001b[0m,\n",
       "    \u001b[32m'S77'\u001b[0m,\n",
       "    \u001b[32m'S78'\u001b[0m,\n",
       "    \u001b[32m'S79'\u001b[0m,\n",
       "    \u001b[32m'S80'\u001b[0m,\n",
       "    \u001b[32m'S81'\u001b[0m,\n",
       "    \u001b[32m'S82'\u001b[0m,\n",
       "    \u001b[32m'S83'\u001b[0m,\n",
       "    \u001b[32m'S84'\u001b[0m,\n",
       "    \u001b[32m'S85'\u001b[0m,\n",
       "    \u001b[32m'S86'\u001b[0m,\n",
       "    \u001b[32m'S87'\u001b[0m,\n",
       "    \u001b[32m'S88'\u001b[0m,\n",
       "    \u001b[32m'S89'\u001b[0m\n",
       "\u001b[1m]\u001b[0m\n"
      ]
     },
     "metadata": {},
     "output_type": "display_data"
    },
    {
     "name": "stderr",
     "output_type": "stream",
     "text": [
      "Seed set to 42\n",
      "GPU available: True (mps), used: False\n",
      "TPU available: False, using: 0 TPU cores\n",
      "IPU available: False, using: 0 IPUs\n",
      "HPU available: False, using: 0 HPUs\n",
      "/Users/alessandrotocco/Library/Python/3.9/lib/python/site-packages/pytorch_lightning/trainer/setup.py:187: GPU available but not used. You can set it by doing `Trainer(accelerator='gpu')`.\n",
      "/Users/alessandrotocco/Library/Python/3.9/lib/python/site-packages/pytorch_lightning/callbacks/model_checkpoint.py:639: Checkpoint directory /Users/alessandrotocco/Desktop/Universita/Data Analysis/DataAnalyticsProject/Training_Module/saved_models exists and is not empty.\n",
      "/Users/alessandrotocco/Library/Python/3.9/lib/python/site-packages/pytorch_lightning/trainer/connectors/data_connector.py:441: The 'train_dataloader' does not have many workers which may be a bottleneck. Consider increasing the value of the `num_workers` argument` to `num_workers=7` in the `DataLoader` to improve performance.\n",
      "/Users/alessandrotocco/Library/Python/3.9/lib/python/site-packages/pytorch_lightning/trainer/connectors/data_connector.py:441: The 'val_dataloader' does not have many workers which may be a bottleneck. Consider increasing the value of the `num_workers` argument` to `num_workers=7` in the `DataLoader` to improve performance.\n"
     ]
    },
    {
     "data": {
      "application/vnd.jupyter.widget-view+json": {
       "model_id": "0755cd6edad14a44b3a73263f8680086",
       "version_major": 2,
       "version_minor": 0
      },
      "text/plain": [
       "Finding best initial lr:   0%|          | 0/100 [00:00<?, ?it/s]"
      ]
     },
     "metadata": {},
     "output_type": "display_data"
    },
    {
     "name": "stderr",
     "output_type": "stream",
     "text": [
      "`Trainer.fit` stopped: `max_steps=100` reached.\n",
      "Learning rate set to 0.3981071705534969\n",
      "Restoring states from the checkpoint path at /Users/alessandrotocco/Desktop/Universita/Data Analysis/DataAnalyticsProject/Training_Module/.lr_find_bba5438b-fbed-4589-b262-21d5a2c81cdb.ckpt\n",
      "Restored all states from the checkpoint at /Users/alessandrotocco/Desktop/Universita/Data Analysis/DataAnalyticsProject/Training_Module/.lr_find_bba5438b-fbed-4589-b262-21d5a2c81cdb.ckpt\n"
     ]
    },
    {
     "data": {
      "application/vnd.jupyter.widget-view+json": {
       "model_id": "c994782fdbb042959c8be84459d4455a",
       "version_major": 2,
       "version_minor": 0
      },
      "text/plain": [
       "Sanity Checking: |          | 0/? [00:00<?, ?it/s]"
      ]
     },
     "metadata": {},
     "output_type": "display_data"
    },
    {
     "data": {
      "application/vnd.jupyter.widget-view+json": {
       "model_id": "53dded3b07634d51a8e9cbb362018af7",
       "version_major": 2,
       "version_minor": 0
      },
      "text/plain": [
       "Training: |          | 0/? [00:00<?, ?it/s]"
      ]
     },
     "metadata": {},
     "output_type": "display_data"
    },
    {
     "data": {
      "application/vnd.jupyter.widget-view+json": {
       "model_id": "2ab50d9b26fd4c7eb2545c1033ec09b4",
       "version_major": 2,
       "version_minor": 0
      },
      "text/plain": [
       "Validation: |          | 0/? [00:00<?, ?it/s]"
      ]
     },
     "metadata": {},
     "output_type": "display_data"
    },
    {
     "data": {
      "application/vnd.jupyter.widget-view+json": {
       "model_id": "70ed11acef794eab86ba6c34c84431e9",
       "version_major": 2,
       "version_minor": 0
      },
      "text/plain": [
       "Validation: |          | 0/? [00:00<?, ?it/s]"
      ]
     },
     "metadata": {},
     "output_type": "display_data"
    },
    {
     "data": {
      "application/vnd.jupyter.widget-view+json": {
       "model_id": "d254214b698e4302848498ac875d01df",
       "version_major": 2,
       "version_minor": 0
      },
      "text/plain": [
       "Validation: |          | 0/? [00:00<?, ?it/s]"
      ]
     },
     "metadata": {},
     "output_type": "display_data"
    },
    {
     "data": {
      "application/vnd.jupyter.widget-view+json": {
       "model_id": "ac030307df00443481751383704e68ce",
       "version_major": 2,
       "version_minor": 0
      },
      "text/plain": [
       "Validation: |          | 0/? [00:00<?, ?it/s]"
      ]
     },
     "metadata": {},
     "output_type": "display_data"
    },
    {
     "data": {
      "application/vnd.jupyter.widget-view+json": {
       "model_id": "f521c552d4a1463f9a1bd260f655cea6",
       "version_major": 2,
       "version_minor": 0
      },
      "text/plain": [
       "Validation: |          | 0/? [00:00<?, ?it/s]"
      ]
     },
     "metadata": {},
     "output_type": "display_data"
    },
    {
     "data": {
      "application/vnd.jupyter.widget-view+json": {
       "model_id": "4365dd8dcd744ef58afb94ee20b6a69b",
       "version_major": 2,
       "version_minor": 0
      },
      "text/plain": [
       "Validation: |          | 0/? [00:00<?, ?it/s]"
      ]
     },
     "metadata": {},
     "output_type": "display_data"
    },
    {
     "data": {
      "application/vnd.jupyter.widget-view+json": {
       "model_id": "2d37a5508efa422b838195d179bed6db",
       "version_major": 2,
       "version_minor": 0
      },
      "text/plain": [
       "Validation: |          | 0/? [00:00<?, ?it/s]"
      ]
     },
     "metadata": {},
     "output_type": "display_data"
    },
    {
     "data": {
      "application/vnd.jupyter.widget-view+json": {
       "model_id": "e94e9a246a1045ed8b61cd4487947d0c",
       "version_major": 2,
       "version_minor": 0
      },
      "text/plain": [
       "Validation: |          | 0/? [00:00<?, ?it/s]"
      ]
     },
     "metadata": {},
     "output_type": "display_data"
    },
    {
     "data": {
      "application/vnd.jupyter.widget-view+json": {
       "model_id": "54b95b13218847e5a77045b3cd972c13",
       "version_major": 2,
       "version_minor": 0
      },
      "text/plain": [
       "Validation: |          | 0/? [00:00<?, ?it/s]"
      ]
     },
     "metadata": {},
     "output_type": "display_data"
    },
    {
     "data": {
      "application/vnd.jupyter.widget-view+json": {
       "model_id": "3c4a66135b4e4b239a2a2693cafcd522",
       "version_major": 2,
       "version_minor": 0
      },
      "text/plain": [
       "Validation: |          | 0/? [00:00<?, ?it/s]"
      ]
     },
     "metadata": {},
     "output_type": "display_data"
    },
    {
     "data": {
      "application/vnd.jupyter.widget-view+json": {
       "model_id": "75af7d4e466e4aef8e6177e15260584f",
       "version_major": 2,
       "version_minor": 0
      },
      "text/plain": [
       "Validation: |          | 0/? [00:00<?, ?it/s]"
      ]
     },
     "metadata": {},
     "output_type": "display_data"
    },
    {
     "data": {
      "application/vnd.jupyter.widget-view+json": {
       "model_id": "8466a56f06464f36b230503427d76abe",
       "version_major": 2,
       "version_minor": 0
      },
      "text/plain": [
       "Validation: |          | 0/? [00:00<?, ?it/s]"
      ]
     },
     "metadata": {},
     "output_type": "display_data"
    },
    {
     "data": {
      "application/vnd.jupyter.widget-view+json": {
       "model_id": "7e3e1d7328a6434f9176008679a82fd4",
       "version_major": 2,
       "version_minor": 0
      },
      "text/plain": [
       "Validation: |          | 0/? [00:00<?, ?it/s]"
      ]
     },
     "metadata": {},
     "output_type": "display_data"
    },
    {
     "data": {
      "application/vnd.jupyter.widget-view+json": {
       "model_id": "19e80f328a994834827ac087ca2067b9",
       "version_major": 2,
       "version_minor": 0
      },
      "text/plain": [
       "Validation: |          | 0/? [00:00<?, ?it/s]"
      ]
     },
     "metadata": {},
     "output_type": "display_data"
    },
    {
     "data": {
      "application/vnd.jupyter.widget-view+json": {
       "model_id": "cffee7888a6845759b16c3e02b34dc70",
       "version_major": 2,
       "version_minor": 0
      },
      "text/plain": [
       "Validation: |          | 0/? [00:00<?, ?it/s]"
      ]
     },
     "metadata": {},
     "output_type": "display_data"
    },
    {
     "data": {
      "application/vnd.jupyter.widget-view+json": {
       "model_id": "5b3fd91cb3354f818cef375c9c34410c",
       "version_major": 2,
       "version_minor": 0
      },
      "text/plain": [
       "Validation: |          | 0/? [00:00<?, ?it/s]"
      ]
     },
     "metadata": {},
     "output_type": "display_data"
    },
    {
     "data": {
      "application/vnd.jupyter.widget-view+json": {
       "model_id": "fe17be3564f4435b9d3b15e3a255d726",
       "version_major": 2,
       "version_minor": 0
      },
      "text/plain": [
       "Validation: |          | 0/? [00:00<?, ?it/s]"
      ]
     },
     "metadata": {},
     "output_type": "display_data"
    },
    {
     "data": {
      "application/vnd.jupyter.widget-view+json": {
       "model_id": "3847aae1f8bf4e1c8e49a37562718782",
       "version_major": 2,
       "version_minor": 0
      },
      "text/plain": [
       "Validation: |          | 0/? [00:00<?, ?it/s]"
      ]
     },
     "metadata": {},
     "output_type": "display_data"
    },
    {
     "data": {
      "application/vnd.jupyter.widget-view+json": {
       "model_id": "1be23331720f408798b306c823e82c76",
       "version_major": 2,
       "version_minor": 0
      },
      "text/plain": [
       "Validation: |          | 0/? [00:00<?, ?it/s]"
      ]
     },
     "metadata": {},
     "output_type": "display_data"
    },
    {
     "data": {
      "application/vnd.jupyter.widget-view+json": {
       "model_id": "d76ae526e3d44a429663ab4564f81d50",
       "version_major": 2,
       "version_minor": 0
      },
      "text/plain": [
       "Validation: |          | 0/? [00:00<?, ?it/s]"
      ]
     },
     "metadata": {},
     "output_type": "display_data"
    },
    {
     "data": {
      "application/vnd.jupyter.widget-view+json": {
       "model_id": "abdcb79989a049169932186495535d78",
       "version_major": 2,
       "version_minor": 0
      },
      "text/plain": [
       "Validation: |          | 0/? [00:00<?, ?it/s]"
      ]
     },
     "metadata": {},
     "output_type": "display_data"
    },
    {
     "data": {
      "application/vnd.jupyter.widget-view+json": {
       "model_id": "4cd7cc9c6cab4df1bf8023ef6ba968b0",
       "version_major": 2,
       "version_minor": 0
      },
      "text/plain": [
       "Validation: |          | 0/? [00:00<?, ?it/s]"
      ]
     },
     "metadata": {},
     "output_type": "display_data"
    },
    {
     "data": {
      "application/vnd.jupyter.widget-view+json": {
       "model_id": "77540c8b11ab47be90d9a4d00389d80f",
       "version_major": 2,
       "version_minor": 0
      },
      "text/plain": [
       "Validation: |          | 0/? [00:00<?, ?it/s]"
      ]
     },
     "metadata": {},
     "output_type": "display_data"
    },
    {
     "data": {
      "application/vnd.jupyter.widget-view+json": {
       "model_id": "5af0e1c734ba489380d314692b467476",
       "version_major": 2,
       "version_minor": 0
      },
      "text/plain": [
       "Validation: |          | 0/? [00:00<?, ?it/s]"
      ]
     },
     "metadata": {},
     "output_type": "display_data"
    },
    {
     "data": {
      "application/vnd.jupyter.widget-view+json": {
       "model_id": "d5ccb91c7b594d16827ef511c4bac02c",
       "version_major": 2,
       "version_minor": 0
      },
      "text/plain": [
       "Validation: |          | 0/? [00:00<?, ?it/s]"
      ]
     },
     "metadata": {},
     "output_type": "display_data"
    },
    {
     "data": {
      "application/vnd.jupyter.widget-view+json": {
       "model_id": "654e4aa1d9a447cda4f6016f57bf5aa2",
       "version_major": 2,
       "version_minor": 0
      },
      "text/plain": [
       "Validation: |          | 0/? [00:00<?, ?it/s]"
      ]
     },
     "metadata": {},
     "output_type": "display_data"
    },
    {
     "data": {
      "application/vnd.jupyter.widget-view+json": {
       "model_id": "296f0bf029e64473a02e665333949812",
       "version_major": 2,
       "version_minor": 0
      },
      "text/plain": [
       "Validation: |          | 0/? [00:00<?, ?it/s]"
      ]
     },
     "metadata": {},
     "output_type": "display_data"
    },
    {
     "data": {
      "application/vnd.jupyter.widget-view+json": {
       "model_id": "d513597e6236485699bb0bf176a67187",
       "version_major": 2,
       "version_minor": 0
      },
      "text/plain": [
       "Validation: |          | 0/? [00:00<?, ?it/s]"
      ]
     },
     "metadata": {},
     "output_type": "display_data"
    },
    {
     "data": {
      "application/vnd.jupyter.widget-view+json": {
       "model_id": "b2760f459dd940b1a6249e25b8328b0e",
       "version_major": 2,
       "version_minor": 0
      },
      "text/plain": [
       "Validation: |          | 0/? [00:00<?, ?it/s]"
      ]
     },
     "metadata": {},
     "output_type": "display_data"
    },
    {
     "data": {
      "application/vnd.jupyter.widget-view+json": {
       "model_id": "8370c2f942864e169dd7b3980a5e9179",
       "version_major": 2,
       "version_minor": 0
      },
      "text/plain": [
       "Validation: |          | 0/? [00:00<?, ?it/s]"
      ]
     },
     "metadata": {},
     "output_type": "display_data"
    },
    {
     "data": {
      "application/vnd.jupyter.widget-view+json": {
       "model_id": "55b80b25404a48b1bc9ead00f9f70326",
       "version_major": 2,
       "version_minor": 0
      },
      "text/plain": [
       "Validation: |          | 0/? [00:00<?, ?it/s]"
      ]
     },
     "metadata": {},
     "output_type": "display_data"
    },
    {
     "data": {
      "application/vnd.jupyter.widget-view+json": {
       "model_id": "4d22dc3f004b46059edf51bcc986203a",
       "version_major": 2,
       "version_minor": 0
      },
      "text/plain": [
       "Validation: |          | 0/? [00:00<?, ?it/s]"
      ]
     },
     "metadata": {},
     "output_type": "display_data"
    },
    {
     "data": {
      "application/vnd.jupyter.widget-view+json": {
       "model_id": "c9f57b1106274a269c2fef2d35f90d44",
       "version_major": 2,
       "version_minor": 0
      },
      "text/plain": [
       "Validation: |          | 0/? [00:00<?, ?it/s]"
      ]
     },
     "metadata": {},
     "output_type": "display_data"
    },
    {
     "data": {
      "application/vnd.jupyter.widget-view+json": {
       "model_id": "45cfa6271bdb428dac28d9727ae20d7f",
       "version_major": 2,
       "version_minor": 0
      },
      "text/plain": [
       "Validation: |          | 0/? [00:00<?, ?it/s]"
      ]
     },
     "metadata": {},
     "output_type": "display_data"
    },
    {
     "data": {
      "application/vnd.jupyter.widget-view+json": {
       "model_id": "bc91843a7f354bd1a119f6c8590bf8ce",
       "version_major": 2,
       "version_minor": 0
      },
      "text/plain": [
       "Validation: |          | 0/? [00:00<?, ?it/s]"
      ]
     },
     "metadata": {},
     "output_type": "display_data"
    },
    {
     "data": {
      "application/vnd.jupyter.widget-view+json": {
       "model_id": "c0988ce0a7274c6e89dbb5d7bb842de1",
       "version_major": 2,
       "version_minor": 0
      },
      "text/plain": [
       "Validation: |          | 0/? [00:00<?, ?it/s]"
      ]
     },
     "metadata": {},
     "output_type": "display_data"
    },
    {
     "data": {
      "application/vnd.jupyter.widget-view+json": {
       "model_id": "160a62f36e3941ea84ec62997476f66a",
       "version_major": 2,
       "version_minor": 0
      },
      "text/plain": [
       "Validation: |          | 0/? [00:00<?, ?it/s]"
      ]
     },
     "metadata": {},
     "output_type": "display_data"
    },
    {
     "data": {
      "application/vnd.jupyter.widget-view+json": {
       "model_id": "2cdd0221a9674c05955e24f089d6dc01",
       "version_major": 2,
       "version_minor": 0
      },
      "text/plain": [
       "Validation: |          | 0/? [00:00<?, ?it/s]"
      ]
     },
     "metadata": {},
     "output_type": "display_data"
    },
    {
     "data": {
      "application/vnd.jupyter.widget-view+json": {
       "model_id": "68ba7a3a9d3a4ea894e7ec9c27a1bd65",
       "version_major": 2,
       "version_minor": 0
      },
      "text/plain": [
       "Validation: |          | 0/? [00:00<?, ?it/s]"
      ]
     },
     "metadata": {},
     "output_type": "display_data"
    },
    {
     "data": {
      "application/vnd.jupyter.widget-view+json": {
       "model_id": "0fbdd89e364346ebbd0aa203f144a536",
       "version_major": 2,
       "version_minor": 0
      },
      "text/plain": [
       "Validation: |          | 0/? [00:00<?, ?it/s]"
      ]
     },
     "metadata": {},
     "output_type": "display_data"
    },
    {
     "data": {
      "application/vnd.jupyter.widget-view+json": {
       "model_id": "c53fa66b8489429e884edfc0d063cbe9",
       "version_major": 2,
       "version_minor": 0
      },
      "text/plain": [
       "Validation: |          | 0/? [00:00<?, ?it/s]"
      ]
     },
     "metadata": {},
     "output_type": "display_data"
    },
    {
     "data": {
      "application/vnd.jupyter.widget-view+json": {
       "model_id": "b590fd821e604b97b5bb3c138a1e013c",
       "version_major": 2,
       "version_minor": 0
      },
      "text/plain": [
       "Validation: |          | 0/? [00:00<?, ?it/s]"
      ]
     },
     "metadata": {},
     "output_type": "display_data"
    },
    {
     "data": {
      "application/vnd.jupyter.widget-view+json": {
       "model_id": "c7bcfb0f4cdf45738b0f589cd34fe96a",
       "version_major": 2,
       "version_minor": 0
      },
      "text/plain": [
       "Validation: |          | 0/? [00:00<?, ?it/s]"
      ]
     },
     "metadata": {},
     "output_type": "display_data"
    },
    {
     "data": {
      "application/vnd.jupyter.widget-view+json": {
       "model_id": "6a2808fe7d244757a2b064187ba7217e",
       "version_major": 2,
       "version_minor": 0
      },
      "text/plain": [
       "Validation: |          | 0/? [00:00<?, ?it/s]"
      ]
     },
     "metadata": {},
     "output_type": "display_data"
    },
    {
     "data": {
      "application/vnd.jupyter.widget-view+json": {
       "model_id": "54965110ae3e4a59ba58a04d8903f288",
       "version_major": 2,
       "version_minor": 0
      },
      "text/plain": [
       "Validation: |          | 0/? [00:00<?, ?it/s]"
      ]
     },
     "metadata": {},
     "output_type": "display_data"
    },
    {
     "data": {
      "application/vnd.jupyter.widget-view+json": {
       "model_id": "3f5dc54754fe480ba53a07b84019f638",
       "version_major": 2,
       "version_minor": 0
      },
      "text/plain": [
       "Validation: |          | 0/? [00:00<?, ?it/s]"
      ]
     },
     "metadata": {},
     "output_type": "display_data"
    },
    {
     "data": {
      "application/vnd.jupyter.widget-view+json": {
       "model_id": "b42de4922c0f465db01ef70e0d5e06a4",
       "version_major": 2,
       "version_minor": 0
      },
      "text/plain": [
       "Validation: |          | 0/? [00:00<?, ?it/s]"
      ]
     },
     "metadata": {},
     "output_type": "display_data"
    },
    {
     "data": {
      "application/vnd.jupyter.widget-view+json": {
       "model_id": "ea17bc17f45d4822a497928210549edc",
       "version_major": 2,
       "version_minor": 0
      },
      "text/plain": [
       "Validation: |          | 0/? [00:00<?, ?it/s]"
      ]
     },
     "metadata": {},
     "output_type": "display_data"
    },
    {
     "data": {
      "application/vnd.jupyter.widget-view+json": {
       "model_id": "bdebeb3ba8e64c59a89afe97517cc662",
       "version_major": 2,
       "version_minor": 0
      },
      "text/plain": [
       "Validation: |          | 0/? [00:00<?, ?it/s]"
      ]
     },
     "metadata": {},
     "output_type": "display_data"
    },
    {
     "data": {
      "application/vnd.jupyter.widget-view+json": {
       "model_id": "ef39644530384f82a8ca8ec110a438b6",
       "version_major": 2,
       "version_minor": 0
      },
      "text/plain": [
       "Validation: |          | 0/? [00:00<?, ?it/s]"
      ]
     },
     "metadata": {},
     "output_type": "display_data"
    },
    {
     "data": {
      "application/vnd.jupyter.widget-view+json": {
       "model_id": "8510680455424517b2b1913433539bcb",
       "version_major": 2,
       "version_minor": 0
      },
      "text/plain": [
       "Validation: |          | 0/? [00:00<?, ?it/s]"
      ]
     },
     "metadata": {},
     "output_type": "display_data"
    },
    {
     "data": {
      "application/vnd.jupyter.widget-view+json": {
       "model_id": "ac4cbf9dadfc48ffa44da6265112c621",
       "version_major": 2,
       "version_minor": 0
      },
      "text/plain": [
       "Validation: |          | 0/? [00:00<?, ?it/s]"
      ]
     },
     "metadata": {},
     "output_type": "display_data"
    },
    {
     "data": {
      "application/vnd.jupyter.widget-view+json": {
       "model_id": "476d3b910a634530af2dbb59d6b1723b",
       "version_major": 2,
       "version_minor": 0
      },
      "text/plain": [
       "Validation: |          | 0/? [00:00<?, ?it/s]"
      ]
     },
     "metadata": {},
     "output_type": "display_data"
    },
    {
     "data": {
      "application/vnd.jupyter.widget-view+json": {
       "model_id": "c6b5c46e8042422c80b87ea3df66e950",
       "version_major": 2,
       "version_minor": 0
      },
      "text/plain": [
       "Validation: |          | 0/? [00:00<?, ?it/s]"
      ]
     },
     "metadata": {},
     "output_type": "display_data"
    },
    {
     "data": {
      "application/vnd.jupyter.widget-view+json": {
       "model_id": "d3209f3aa10d497cb4964e412629ae46",
       "version_major": 2,
       "version_minor": 0
      },
      "text/plain": [
       "Validation: |          | 0/? [00:00<?, ?it/s]"
      ]
     },
     "metadata": {},
     "output_type": "display_data"
    },
    {
     "data": {
      "application/vnd.jupyter.widget-view+json": {
       "model_id": "fa3033712a9f46bcaa2b22cb433c0006",
       "version_major": 2,
       "version_minor": 0
      },
      "text/plain": [
       "Validation: |          | 0/? [00:00<?, ?it/s]"
      ]
     },
     "metadata": {},
     "output_type": "display_data"
    },
    {
     "data": {
      "application/vnd.jupyter.widget-view+json": {
       "model_id": "0edea03ac3ee4224a717233cc4d5faa2",
       "version_major": 2,
       "version_minor": 0
      },
      "text/plain": [
       "Validation: |          | 0/? [00:00<?, ?it/s]"
      ]
     },
     "metadata": {},
     "output_type": "display_data"
    },
    {
     "data": {
      "application/vnd.jupyter.widget-view+json": {
       "model_id": "39b400ee3d1d4c22aeda477cb583e978",
       "version_major": 2,
       "version_minor": 0
      },
      "text/plain": [
       "Validation: |          | 0/? [00:00<?, ?it/s]"
      ]
     },
     "metadata": {},
     "output_type": "display_data"
    },
    {
     "data": {
      "application/vnd.jupyter.widget-view+json": {
       "model_id": "e8fc036a0b9e49f090d9e8da1066bec9",
       "version_major": 2,
       "version_minor": 0
      },
      "text/plain": [
       "Validation: |          | 0/? [00:00<?, ?it/s]"
      ]
     },
     "metadata": {},
     "output_type": "display_data"
    },
    {
     "data": {
      "application/vnd.jupyter.widget-view+json": {
       "model_id": "1ef3b3fd7aca42eb9838e8d175ef4295",
       "version_major": 2,
       "version_minor": 0
      },
      "text/plain": [
       "Validation: |          | 0/? [00:00<?, ?it/s]"
      ]
     },
     "metadata": {},
     "output_type": "display_data"
    },
    {
     "data": {
      "application/vnd.jupyter.widget-view+json": {
       "model_id": "af1e843e2f2547e988d8a3f9d4f49ab2",
       "version_major": 2,
       "version_minor": 0
      },
      "text/plain": [
       "Validation: |          | 0/? [00:00<?, ?it/s]"
      ]
     },
     "metadata": {},
     "output_type": "display_data"
    },
    {
     "data": {
      "application/vnd.jupyter.widget-view+json": {
       "model_id": "40ebba4fdb23481b94354a6520d7ca47",
       "version_major": 2,
       "version_minor": 0
      },
      "text/plain": [
       "Validation: |          | 0/? [00:00<?, ?it/s]"
      ]
     },
     "metadata": {},
     "output_type": "display_data"
    },
    {
     "data": {
      "application/vnd.jupyter.widget-view+json": {
       "model_id": "18331fd86959479999f24cbcbb4ba705",
       "version_major": 2,
       "version_minor": 0
      },
      "text/plain": [
       "Validation: |          | 0/? [00:00<?, ?it/s]"
      ]
     },
     "metadata": {},
     "output_type": "display_data"
    },
    {
     "name": "stderr",
     "output_type": "stream",
     "text": [
      "/Users/alessandrotocco/Library/Python/3.9/lib/python/site-packages/pytorch_lightning/trainer/connectors/data_connector.py:441: The 'test_dataloader' does not have many workers which may be a bottleneck. Consider increasing the value of the `num_workers` argument` to `num_workers=7` in the `DataLoader` to improve performance.\n"
     ]
    },
    {
     "data": {
      "application/vnd.jupyter.widget-view+json": {
       "model_id": "ae6dd2308eb1456c945d867f6c70b788",
       "version_major": 2,
       "version_minor": 0
      },
      "text/plain": [
       "Testing: |          | 0/? [00:00<?, ?it/s]"
      ]
     },
     "metadata": {},
     "output_type": "display_data"
    },
    {
     "data": {
      "text/html": [
       "<pre style=\"white-space:pre;overflow-x:auto;line-height:normal;font-family:Menlo,'DejaVu Sans Mono',consolas,'Courier New',monospace\">┏━━━━━━━━━━━━━━━━━━━━━━━━━━━┳━━━━━━━━━━━━━━━━━━━━━━━━━━━┓\n",
       "┃<span style=\"font-weight: bold\">        Test metric        </span>┃<span style=\"font-weight: bold\">       DataLoader 0        </span>┃\n",
       "┡━━━━━━━━━━━━━━━━━━━━━━━━━━━╇━━━━━━━━━━━━━━━━━━━━━━━━━━━┩\n",
       "│<span style=\"color: #008080; text-decoration-color: #008080\">         test_loss         </span>│<span style=\"color: #800080; text-decoration-color: #800080\">     93.9802017211914      </span>│\n",
       "│<span style=\"color: #008080; text-decoration-color: #008080\">  test_mean_squared_error  </span>│<span style=\"color: #800080; text-decoration-color: #800080\">     93.9802017211914      </span>│\n",
       "└───────────────────────────┴───────────────────────────┘\n",
       "</pre>\n"
      ],
      "text/plain": [
       "┏━━━━━━━━━━━━━━━━━━━━━━━━━━━┳━━━━━━━━━━━━━━━━━━━━━━━━━━━┓\n",
       "┃\u001b[1m \u001b[0m\u001b[1m       Test metric       \u001b[0m\u001b[1m \u001b[0m┃\u001b[1m \u001b[0m\u001b[1m      DataLoader 0       \u001b[0m\u001b[1m \u001b[0m┃\n",
       "┡━━━━━━━━━━━━━━━━━━━━━━━━━━━╇━━━━━━━━━━━━━━━━━━━━━━━━━━━┩\n",
       "│\u001b[36m \u001b[0m\u001b[36m        test_loss        \u001b[0m\u001b[36m \u001b[0m│\u001b[35m \u001b[0m\u001b[35m    93.9802017211914     \u001b[0m\u001b[35m \u001b[0m│\n",
       "│\u001b[36m \u001b[0m\u001b[36m test_mean_squared_error \u001b[0m\u001b[36m \u001b[0m│\u001b[35m \u001b[0m\u001b[35m    93.9802017211914     \u001b[0m\u001b[35m \u001b[0m│\n",
       "└───────────────────────────┴───────────────────────────┘\n"
      ]
     },
     "metadata": {},
     "output_type": "display_data"
    }
   ],
   "source": [
    "import pandas as pd \n",
    "from sklearn.model_selection import train_test_split\n",
    "\n",
    "\n",
    "FILENAME = \"train.csv\"\n",
    "df = pd.read_csv(FILENAME)\n",
    "\n",
    "X = df.drop(\"Year\", axis=1)\n",
    "y = df[\"Year\"]\n",
    "\n",
    "nomi_colonne = list(X.columns)\n",
    "#print(nomi_colonne)\n",
    "\n",
    "# Esegui lo split in set di addestramento, di test e di validazione\n",
    "from sklearn.model_selection import train_test_split\n",
    "train, test = train_test_split(df, random_state=42, test_size=0.2)\n",
    "train, val = train_test_split(train, random_state=42, test_size=0.2)\n",
    "#print(f\"Train Shape: {train.shape} | Val Shape: {val.shape} | Test Shape: {test.shape}\")\n",
    "from pytorch_tabular.models import TabTransformerConfig\n",
    "from pytorch_tabular.models.common.heads import LinearHeadConfig\n",
    "from pytorch_tabular.config import (\n",
    "    DataConfig,\n",
    "    OptimizerConfig,\n",
    "    TrainerConfig,\n",
    ")\n",
    "\n",
    "data_config = DataConfig(\n",
    "    target=[\"Year\"],\n",
    "    continuous_cols= nomi_colonne,\n",
    "    categorical_cols=[],\n",
    ")\n",
    "\n",
    "trainer_config = TrainerConfig(\n",
    "    batch_size=64,\n",
    "    early_stopping_patience=15,\n",
    "    auto_lr_find=True,\n",
    "    min_epochs=25,\n",
    "    max_epochs=100,\n",
    "    checkpoints=\"valid_loss\",  # Save best checkpoint monitoring val_loss\n",
    "    progress_bar=True,  # Turning off Progress bar\n",
    "    load_best=\"True\",  # Loading the best model on training end\n",
    "    trainer_kwargs=dict(enable_model_summary=False),  # Turning off model summary\n",
    "    accelerator=\"cpu\",\n",
    ")\n",
    "\n",
    "optimizer_config = OptimizerConfig()\n",
    "\n",
    "head_config = LinearHeadConfig(\n",
    "    layers=\"\",\n",
    "    initialization=(\"kaiming\"),\n",
    ").__dict__  \n",
    "\n",
    "model_config = TabTransformerConfig(\n",
    "    task=\"regression\",\n",
    "    head='LinearHead',\n",
    "    head_config=head_config,\n",
    ")\n",
    "\n",
    "from pytorch_tabular import TabularModel\n",
    "\n",
    "tabular_model = TabularModel(\n",
    "    data_config=data_config,\n",
    "    model_config=model_config,\n",
    "    optimizer_config=optimizer_config,\n",
    "    trainer_config=trainer_config,\n",
    "    verbose=False\n",
    ")\n",
    "tabular_model.fit(train=train, validation=val)\n",
    "pred_df = tabular_model.predict(test)\n",
    "pred_df.head()\n",
    "result = tabular_model.evaluate(test)"
   ]
  }
 ],
 "metadata": {
  "kernelspec": {
   "display_name": "base",
   "language": "python",
   "name": "python3"
  },
  "language_info": {
   "codemirror_mode": {
    "name": "ipython",
    "version": 3
   },
   "file_extension": ".py",
   "mimetype": "text/x-python",
   "name": "python",
   "nbconvert_exporter": "python",
   "pygments_lexer": "ipython3",
   "version": "3.9.6"
  }
 },
 "nbformat": 4,
 "nbformat_minor": 2
}
