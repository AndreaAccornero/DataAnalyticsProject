{
 "cells": [
  {
   "cell_type": "code",
   "execution_count": 31,
   "metadata": {},
   "outputs": [
    {
     "data": {
      "text/html": [
       "<pre style=\"white-space:pre;overflow-x:auto;line-height:normal;font-family:Menlo,'DejaVu Sans Mono',consolas,'Courier New',monospace\"><span style=\"font-weight: bold\">[</span>\n",
       "    <span style=\"color: #008000; text-decoration-color: #008000\">'S0'</span>,\n",
       "    <span style=\"color: #008000; text-decoration-color: #008000\">'S1'</span>,\n",
       "    <span style=\"color: #008000; text-decoration-color: #008000\">'S2'</span>,\n",
       "    <span style=\"color: #008000; text-decoration-color: #008000\">'S3'</span>,\n",
       "    <span style=\"color: #008000; text-decoration-color: #008000\">'S4'</span>,\n",
       "    <span style=\"color: #008000; text-decoration-color: #008000\">'S5'</span>,\n",
       "    <span style=\"color: #008000; text-decoration-color: #008000\">'S6'</span>,\n",
       "    <span style=\"color: #008000; text-decoration-color: #008000\">'S7'</span>,\n",
       "    <span style=\"color: #008000; text-decoration-color: #008000\">'S8'</span>,\n",
       "    <span style=\"color: #008000; text-decoration-color: #008000\">'S9'</span>,\n",
       "    <span style=\"color: #008000; text-decoration-color: #008000\">'S10'</span>,\n",
       "    <span style=\"color: #008000; text-decoration-color: #008000\">'S11'</span>,\n",
       "    <span style=\"color: #008000; text-decoration-color: #008000\">'S12'</span>,\n",
       "    <span style=\"color: #008000; text-decoration-color: #008000\">'S13'</span>,\n",
       "    <span style=\"color: #008000; text-decoration-color: #008000\">'S14'</span>,\n",
       "    <span style=\"color: #008000; text-decoration-color: #008000\">'S15'</span>,\n",
       "    <span style=\"color: #008000; text-decoration-color: #008000\">'S16'</span>,\n",
       "    <span style=\"color: #008000; text-decoration-color: #008000\">'S17'</span>,\n",
       "    <span style=\"color: #008000; text-decoration-color: #008000\">'S18'</span>,\n",
       "    <span style=\"color: #008000; text-decoration-color: #008000\">'S19'</span>,\n",
       "    <span style=\"color: #008000; text-decoration-color: #008000\">'S20'</span>,\n",
       "    <span style=\"color: #008000; text-decoration-color: #008000\">'S21'</span>,\n",
       "    <span style=\"color: #008000; text-decoration-color: #008000\">'S22'</span>,\n",
       "    <span style=\"color: #008000; text-decoration-color: #008000\">'S23'</span>,\n",
       "    <span style=\"color: #008000; text-decoration-color: #008000\">'S24'</span>,\n",
       "    <span style=\"color: #008000; text-decoration-color: #008000\">'S25'</span>,\n",
       "    <span style=\"color: #008000; text-decoration-color: #008000\">'S26'</span>,\n",
       "    <span style=\"color: #008000; text-decoration-color: #008000\">'S27'</span>,\n",
       "    <span style=\"color: #008000; text-decoration-color: #008000\">'S28'</span>,\n",
       "    <span style=\"color: #008000; text-decoration-color: #008000\">'S29'</span>,\n",
       "    <span style=\"color: #008000; text-decoration-color: #008000\">'S30'</span>,\n",
       "    <span style=\"color: #008000; text-decoration-color: #008000\">'S31'</span>,\n",
       "    <span style=\"color: #008000; text-decoration-color: #008000\">'S32'</span>,\n",
       "    <span style=\"color: #008000; text-decoration-color: #008000\">'S33'</span>,\n",
       "    <span style=\"color: #008000; text-decoration-color: #008000\">'S34'</span>,\n",
       "    <span style=\"color: #008000; text-decoration-color: #008000\">'S35'</span>,\n",
       "    <span style=\"color: #008000; text-decoration-color: #008000\">'S36'</span>,\n",
       "    <span style=\"color: #008000; text-decoration-color: #008000\">'S37'</span>,\n",
       "    <span style=\"color: #008000; text-decoration-color: #008000\">'S38'</span>,\n",
       "    <span style=\"color: #008000; text-decoration-color: #008000\">'S39'</span>,\n",
       "    <span style=\"color: #008000; text-decoration-color: #008000\">'S40'</span>,\n",
       "    <span style=\"color: #008000; text-decoration-color: #008000\">'S41'</span>,\n",
       "    <span style=\"color: #008000; text-decoration-color: #008000\">'S42'</span>,\n",
       "    <span style=\"color: #008000; text-decoration-color: #008000\">'S43'</span>,\n",
       "    <span style=\"color: #008000; text-decoration-color: #008000\">'S44'</span>,\n",
       "    <span style=\"color: #008000; text-decoration-color: #008000\">'S45'</span>,\n",
       "    <span style=\"color: #008000; text-decoration-color: #008000\">'S46'</span>,\n",
       "    <span style=\"color: #008000; text-decoration-color: #008000\">'S47'</span>,\n",
       "    <span style=\"color: #008000; text-decoration-color: #008000\">'S48'</span>,\n",
       "    <span style=\"color: #008000; text-decoration-color: #008000\">'S49'</span>,\n",
       "    <span style=\"color: #008000; text-decoration-color: #008000\">'S50'</span>,\n",
       "    <span style=\"color: #008000; text-decoration-color: #008000\">'S51'</span>,\n",
       "    <span style=\"color: #008000; text-decoration-color: #008000\">'S52'</span>,\n",
       "    <span style=\"color: #008000; text-decoration-color: #008000\">'S53'</span>,\n",
       "    <span style=\"color: #008000; text-decoration-color: #008000\">'S54'</span>,\n",
       "    <span style=\"color: #008000; text-decoration-color: #008000\">'S55'</span>,\n",
       "    <span style=\"color: #008000; text-decoration-color: #008000\">'S56'</span>,\n",
       "    <span style=\"color: #008000; text-decoration-color: #008000\">'S57'</span>,\n",
       "    <span style=\"color: #008000; text-decoration-color: #008000\">'S58'</span>,\n",
       "    <span style=\"color: #008000; text-decoration-color: #008000\">'S59'</span>,\n",
       "    <span style=\"color: #008000; text-decoration-color: #008000\">'S60'</span>,\n",
       "    <span style=\"color: #008000; text-decoration-color: #008000\">'S61'</span>,\n",
       "    <span style=\"color: #008000; text-decoration-color: #008000\">'S62'</span>,\n",
       "    <span style=\"color: #008000; text-decoration-color: #008000\">'S63'</span>,\n",
       "    <span style=\"color: #008000; text-decoration-color: #008000\">'S64'</span>,\n",
       "    <span style=\"color: #008000; text-decoration-color: #008000\">'S65'</span>,\n",
       "    <span style=\"color: #008000; text-decoration-color: #008000\">'S66'</span>,\n",
       "    <span style=\"color: #008000; text-decoration-color: #008000\">'S67'</span>,\n",
       "    <span style=\"color: #008000; text-decoration-color: #008000\">'S68'</span>,\n",
       "    <span style=\"color: #008000; text-decoration-color: #008000\">'S69'</span>,\n",
       "    <span style=\"color: #008000; text-decoration-color: #008000\">'S70'</span>,\n",
       "    <span style=\"color: #008000; text-decoration-color: #008000\">'S71'</span>,\n",
       "    <span style=\"color: #008000; text-decoration-color: #008000\">'S72'</span>,\n",
       "    <span style=\"color: #008000; text-decoration-color: #008000\">'S73'</span>,\n",
       "    <span style=\"color: #008000; text-decoration-color: #008000\">'S74'</span>,\n",
       "    <span style=\"color: #008000; text-decoration-color: #008000\">'S75'</span>,\n",
       "    <span style=\"color: #008000; text-decoration-color: #008000\">'S76'</span>,\n",
       "    <span style=\"color: #008000; text-decoration-color: #008000\">'S77'</span>,\n",
       "    <span style=\"color: #008000; text-decoration-color: #008000\">'S78'</span>,\n",
       "    <span style=\"color: #008000; text-decoration-color: #008000\">'S79'</span>,\n",
       "    <span style=\"color: #008000; text-decoration-color: #008000\">'S80'</span>,\n",
       "    <span style=\"color: #008000; text-decoration-color: #008000\">'S81'</span>,\n",
       "    <span style=\"color: #008000; text-decoration-color: #008000\">'S82'</span>,\n",
       "    <span style=\"color: #008000; text-decoration-color: #008000\">'S83'</span>,\n",
       "    <span style=\"color: #008000; text-decoration-color: #008000\">'S84'</span>,\n",
       "    <span style=\"color: #008000; text-decoration-color: #008000\">'S85'</span>,\n",
       "    <span style=\"color: #008000; text-decoration-color: #008000\">'S86'</span>,\n",
       "    <span style=\"color: #008000; text-decoration-color: #008000\">'S87'</span>,\n",
       "    <span style=\"color: #008000; text-decoration-color: #008000\">'S88'</span>,\n",
       "    <span style=\"color: #008000; text-decoration-color: #008000\">'S89'</span>\n",
       "<span style=\"font-weight: bold\">]</span>\n",
       "</pre>\n"
      ],
      "text/plain": [
       "\u001b[1m[\u001b[0m\n",
       "    \u001b[32m'S0'\u001b[0m,\n",
       "    \u001b[32m'S1'\u001b[0m,\n",
       "    \u001b[32m'S2'\u001b[0m,\n",
       "    \u001b[32m'S3'\u001b[0m,\n",
       "    \u001b[32m'S4'\u001b[0m,\n",
       "    \u001b[32m'S5'\u001b[0m,\n",
       "    \u001b[32m'S6'\u001b[0m,\n",
       "    \u001b[32m'S7'\u001b[0m,\n",
       "    \u001b[32m'S8'\u001b[0m,\n",
       "    \u001b[32m'S9'\u001b[0m,\n",
       "    \u001b[32m'S10'\u001b[0m,\n",
       "    \u001b[32m'S11'\u001b[0m,\n",
       "    \u001b[32m'S12'\u001b[0m,\n",
       "    \u001b[32m'S13'\u001b[0m,\n",
       "    \u001b[32m'S14'\u001b[0m,\n",
       "    \u001b[32m'S15'\u001b[0m,\n",
       "    \u001b[32m'S16'\u001b[0m,\n",
       "    \u001b[32m'S17'\u001b[0m,\n",
       "    \u001b[32m'S18'\u001b[0m,\n",
       "    \u001b[32m'S19'\u001b[0m,\n",
       "    \u001b[32m'S20'\u001b[0m,\n",
       "    \u001b[32m'S21'\u001b[0m,\n",
       "    \u001b[32m'S22'\u001b[0m,\n",
       "    \u001b[32m'S23'\u001b[0m,\n",
       "    \u001b[32m'S24'\u001b[0m,\n",
       "    \u001b[32m'S25'\u001b[0m,\n",
       "    \u001b[32m'S26'\u001b[0m,\n",
       "    \u001b[32m'S27'\u001b[0m,\n",
       "    \u001b[32m'S28'\u001b[0m,\n",
       "    \u001b[32m'S29'\u001b[0m,\n",
       "    \u001b[32m'S30'\u001b[0m,\n",
       "    \u001b[32m'S31'\u001b[0m,\n",
       "    \u001b[32m'S32'\u001b[0m,\n",
       "    \u001b[32m'S33'\u001b[0m,\n",
       "    \u001b[32m'S34'\u001b[0m,\n",
       "    \u001b[32m'S35'\u001b[0m,\n",
       "    \u001b[32m'S36'\u001b[0m,\n",
       "    \u001b[32m'S37'\u001b[0m,\n",
       "    \u001b[32m'S38'\u001b[0m,\n",
       "    \u001b[32m'S39'\u001b[0m,\n",
       "    \u001b[32m'S40'\u001b[0m,\n",
       "    \u001b[32m'S41'\u001b[0m,\n",
       "    \u001b[32m'S42'\u001b[0m,\n",
       "    \u001b[32m'S43'\u001b[0m,\n",
       "    \u001b[32m'S44'\u001b[0m,\n",
       "    \u001b[32m'S45'\u001b[0m,\n",
       "    \u001b[32m'S46'\u001b[0m,\n",
       "    \u001b[32m'S47'\u001b[0m,\n",
       "    \u001b[32m'S48'\u001b[0m,\n",
       "    \u001b[32m'S49'\u001b[0m,\n",
       "    \u001b[32m'S50'\u001b[0m,\n",
       "    \u001b[32m'S51'\u001b[0m,\n",
       "    \u001b[32m'S52'\u001b[0m,\n",
       "    \u001b[32m'S53'\u001b[0m,\n",
       "    \u001b[32m'S54'\u001b[0m,\n",
       "    \u001b[32m'S55'\u001b[0m,\n",
       "    \u001b[32m'S56'\u001b[0m,\n",
       "    \u001b[32m'S57'\u001b[0m,\n",
       "    \u001b[32m'S58'\u001b[0m,\n",
       "    \u001b[32m'S59'\u001b[0m,\n",
       "    \u001b[32m'S60'\u001b[0m,\n",
       "    \u001b[32m'S61'\u001b[0m,\n",
       "    \u001b[32m'S62'\u001b[0m,\n",
       "    \u001b[32m'S63'\u001b[0m,\n",
       "    \u001b[32m'S64'\u001b[0m,\n",
       "    \u001b[32m'S65'\u001b[0m,\n",
       "    \u001b[32m'S66'\u001b[0m,\n",
       "    \u001b[32m'S67'\u001b[0m,\n",
       "    \u001b[32m'S68'\u001b[0m,\n",
       "    \u001b[32m'S69'\u001b[0m,\n",
       "    \u001b[32m'S70'\u001b[0m,\n",
       "    \u001b[32m'S71'\u001b[0m,\n",
       "    \u001b[32m'S72'\u001b[0m,\n",
       "    \u001b[32m'S73'\u001b[0m,\n",
       "    \u001b[32m'S74'\u001b[0m,\n",
       "    \u001b[32m'S75'\u001b[0m,\n",
       "    \u001b[32m'S76'\u001b[0m,\n",
       "    \u001b[32m'S77'\u001b[0m,\n",
       "    \u001b[32m'S78'\u001b[0m,\n",
       "    \u001b[32m'S79'\u001b[0m,\n",
       "    \u001b[32m'S80'\u001b[0m,\n",
       "    \u001b[32m'S81'\u001b[0m,\n",
       "    \u001b[32m'S82'\u001b[0m,\n",
       "    \u001b[32m'S83'\u001b[0m,\n",
       "    \u001b[32m'S84'\u001b[0m,\n",
       "    \u001b[32m'S85'\u001b[0m,\n",
       "    \u001b[32m'S86'\u001b[0m,\n",
       "    \u001b[32m'S87'\u001b[0m,\n",
       "    \u001b[32m'S88'\u001b[0m,\n",
       "    \u001b[32m'S89'\u001b[0m\n",
       "\u001b[1m]\u001b[0m\n"
      ]
     },
     "metadata": {},
     "output_type": "display_data"
    },
    {
     "data": {
      "text/html": [
       "<pre style=\"white-space:pre;overflow-x:auto;line-height:normal;font-family:Menlo,'DejaVu Sans Mono',consolas,'Courier New',monospace\">Train Shape: <span style=\"font-weight: bold\">(</span><span style=\"color: #008080; text-decoration-color: #008080; font-weight: bold\">161392</span>, <span style=\"color: #008080; text-decoration-color: #008080; font-weight: bold\">91</span><span style=\"font-weight: bold\">)</span> | Val Shape: <span style=\"font-weight: bold\">(</span><span style=\"color: #008080; text-decoration-color: #008080; font-weight: bold\">40348</span>, <span style=\"color: #008080; text-decoration-color: #008080; font-weight: bold\">91</span><span style=\"font-weight: bold\">)</span> | Test Shape: <span style=\"font-weight: bold\">(</span><span style=\"color: #008080; text-decoration-color: #008080; font-weight: bold\">50435</span>, <span style=\"color: #008080; text-decoration-color: #008080; font-weight: bold\">91</span><span style=\"font-weight: bold\">)</span>\n",
       "</pre>\n"
      ],
      "text/plain": [
       "Train Shape: \u001b[1m(\u001b[0m\u001b[1;36m161392\u001b[0m, \u001b[1;36m91\u001b[0m\u001b[1m)\u001b[0m | Val Shape: \u001b[1m(\u001b[0m\u001b[1;36m40348\u001b[0m, \u001b[1;36m91\u001b[0m\u001b[1m)\u001b[0m | Test Shape: \u001b[1m(\u001b[0m\u001b[1;36m50435\u001b[0m, \u001b[1;36m91\u001b[0m\u001b[1m)\u001b[0m\n"
      ]
     },
     "metadata": {},
     "output_type": "display_data"
    }
   ],
   "source": [
    "import pandas as pd \n",
    "from sklearn.model_selection import train_test_split\n",
    "from rich import print\n",
    "from rich.pretty import pprint\n",
    "\n",
    "FILENAME = \"train.csv\"\n",
    "df = pd.read_csv(FILENAME)\n",
    "\n",
    "\n",
    "\n",
    "X = df.drop(\"Year\", axis=1)\n",
    "y = df[\"Year\"]\n",
    "\n",
    "nomi_colonne = list(X.columns)\n",
    "print(nomi_colonne)\n",
    "\n",
    "# Esegui lo split in set di addestramento, di test e di validazione\n",
    "from sklearn.model_selection import train_test_split\n",
    "train, test = train_test_split(df, random_state=42, test_size=0.2)\n",
    "train, val = train_test_split(train, random_state=42, test_size=0.2)\n",
    "print(f\"Train Shape: {train.shape} | Val Shape: {val.shape} | Test Shape: {test.shape}\")"
   ]
  },
  {
   "cell_type": "code",
   "execution_count": 32,
   "metadata": {},
   "outputs": [],
   "source": [
    "from pytorch_tabular.config import (\n",
    "    DataConfig,\n",
    "    OptimizerConfig,\n",
    "    TrainerConfig,\n",
    ")\n",
    "from pytorch_tabular.models.common.heads import LinearHeadConfig\n",
    "\n",
    "data_config = DataConfig(\n",
    "    target=[\"Year\"],\n",
    "    continuous_cols= nomi_colonne,\n",
    "    categorical_cols=[],\n",
    ")\n",
    "trainer_config = TrainerConfig(\n",
    "    batch_size=1024,\n",
    "    max_epochs=25,\n",
    "    auto_lr_find=True,\n",
    "    early_stopping=None,  # Monitor valid_loss for early stopping\n",
    "    # early_stopping_mode=\"min\",  # Set the mode as min because for val_loss, lower is better\n",
    "    # early_stopping_patience=5,  # No. of epochs of degradation training will wait before terminating\n",
    "    checkpoints=\"valid_loss\",  # Save best checkpoint monitoring val_loss\n",
    "    load_best=True,  # After training, load the best checkpoint\n",
    "    progress_bar=\"none\",  # Turning off Progress bar\n",
    "    trainer_kwargs=dict(enable_model_summary=False),  # Turning off model summary\n",
    "    accelerator=\"cpu\",\n",
    ")\n",
    "optimizer_config = OptimizerConfig()\n",
    "\n",
    "head_config = LinearHeadConfig(\n",
    "    layers=\"\",\n",
    "    dropout=0.1,\n",
    "    initialization=(  # No additional layer in head, just a mapping layer to output_dim\n",
    "        \"kaiming\"\n",
    "    ),\n",
    ").__dict__  # Convert to dict to pass to the model config (OmegaConf doesn't accept objects)"
   ]
  },
  {
   "cell_type": "code",
   "execution_count": 33,
   "metadata": {},
   "outputs": [
    {
     "data": {
      "text/html": [
       "<pre style=\"white-space:pre;overflow-x:auto;line-height:normal;font-family:Menlo,'DejaVu Sans Mono',consolas,'Courier New',monospace\"><span style=\"font-weight: bold\">[</span><span style=\"color: #008000; text-decoration-color: #008000\">'lite'</span>, <span style=\"color: #008000; text-decoration-color: #008000\">'standard'</span>, <span style=\"color: #008000; text-decoration-color: #008000\">'full'</span>, <span style=\"color: #008000; text-decoration-color: #008000\">'high_memory'</span><span style=\"font-weight: bold\">]</span>\n",
       "</pre>\n"
      ],
      "text/plain": [
       "\u001b[1m[\u001b[0m\u001b[32m'lite'\u001b[0m, \u001b[32m'standard'\u001b[0m, \u001b[32m'full'\u001b[0m, \u001b[32m'high_memory'\u001b[0m\u001b[1m]\u001b[0m\n"
      ]
     },
     "metadata": {},
     "output_type": "display_data"
    }
   ],
   "source": [
    "from pytorch_tabular import MODEL_SWEEP_PRESETS\n",
    "\n",
    "print(list(MODEL_SWEEP_PRESETS.keys()))"
   ]
  },
  {
   "cell_type": "code",
   "execution_count": 34,
   "metadata": {},
   "outputs": [
    {
     "data": {
      "text/html": [
       "<pre style=\"white-space:pre;overflow-x:auto;line-height:normal;font-family:Menlo,'DejaVu Sans Mono',consolas,'Courier New',monospace\"><span style=\"font-weight: bold\">[]</span>\n",
       "</pre>\n"
      ],
      "text/plain": [
       "\u001b[1m[\u001b[0m\u001b[1m]\u001b[0m\n"
      ]
     },
     "metadata": {},
     "output_type": "display_data"
    }
   ],
   "source": [
    "pprint(list(MODEL_SWEEP_PRESETS[\"full\"]))"
   ]
  },
  {
   "cell_type": "code",
   "execution_count": 38,
   "metadata": {},
   "outputs": [
    {
     "data": {
      "application/vnd.jupyter.widget-view+json": {
       "model_id": "623a5fedcc014ed18f61ea0f3843dc25",
       "version_major": 2,
       "version_minor": 0
      },
      "text/plain": [
       "Output()"
      ]
     },
     "metadata": {},
     "output_type": "display_data"
    },
    {
     "data": {
      "application/vnd.jupyter.widget-view+json": {
       "model_id": "b5fc0c2e458347ba8bd4c90c61ef5787",
       "version_major": 2,
       "version_minor": 0
      },
      "text/plain": [
       "Finding best initial lr:   0%|          | 0/100 [00:00<?, ?it/s]"
      ]
     },
     "metadata": {},
     "output_type": "display_data"
    },
    {
     "data": {
      "application/vnd.jupyter.widget-view+json": {
       "model_id": "95a66b59a9994bf6ba82a13f7a12ed9f",
       "version_major": 2,
       "version_minor": 0
      },
      "text/plain": [
       "Finding best initial lr:   0%|          | 0/100 [00:00<?, ?it/s]"
      ]
     },
     "metadata": {},
     "output_type": "display_data"
    },
    {
     "data": {
      "text/html": [
       "<pre style=\"white-space:pre;overflow-x:auto;line-height:normal;font-family:Menlo,'DejaVu Sans Mono',consolas,'Courier New',monospace\"></pre>\n"
      ],
      "text/plain": []
     },
     "metadata": {},
     "output_type": "display_data"
    },
    {
     "data": {
      "text/html": [
       "<pre style=\"white-space:pre;overflow-x:auto;line-height:normal;font-family:Menlo,'DejaVu Sans Mono',consolas,'Courier New',monospace\">\n",
       "</pre>\n"
      ],
      "text/plain": [
       "\n"
      ]
     },
     "metadata": {},
     "output_type": "display_data"
    }
   ],
   "source": [
    "from pytorch_tabular.models import TabNetModelConfig, TabTransformerConfig\n",
    "from pytorch_tabular import model_sweep\n",
    "import warnings\n",
    "common_params = {\n",
    "    \"task\": \"regression\",\n",
    "    \"head\":\"LinearHead\", \"head_config\":head_config\n",
    "}\n",
    "model_list = [\n",
    "    TabNetModelConfig(n_d= 32, n_a= 32, n_steps=3, gamma=1.5, n_independent= 1, n_shared= 2, **common_params),\n",
    "    TabTransformerConfig(**common_params),\n",
    "]\n",
    "\n",
    "# Filtering out the warnings\n",
    "with warnings.catch_warnings():\n",
    "    warnings.simplefilter(\"ignore\")\n",
    "    sweep_df, best_model = model_sweep(\n",
    "        task=\"regression\",  # One of \"classification\", \"regression\"\n",
    "        train=train,\n",
    "        test=test,\n",
    "        data_config=data_config,\n",
    "        optimizer_config=optimizer_config,\n",
    "        trainer_config=trainer_config,\n",
    "        model_list=model_list,\n",
    "        progress_bar=True,\n",
    "        verbose=False,\n",
    "        suppress_lightning_logger=True,\n",
    "    )"
   ]
  },
  {
   "cell_type": "code",
   "execution_count": 39,
   "metadata": {},
   "outputs": [
    {
     "data": {
      "text/html": [
       "<div>\n",
       "<style scoped>\n",
       "    .dataframe tbody tr th:only-of-type {\n",
       "        vertical-align: middle;\n",
       "    }\n",
       "\n",
       "    .dataframe tbody tr th {\n",
       "        vertical-align: top;\n",
       "    }\n",
       "\n",
       "    .dataframe thead th {\n",
       "        text-align: right;\n",
       "    }\n",
       "</style>\n",
       "<table border=\"1\" class=\"dataframe\">\n",
       "  <thead>\n",
       "    <tr style=\"text-align: right;\">\n",
       "      <th></th>\n",
       "      <th>model</th>\n",
       "      <th># Params</th>\n",
       "      <th>epochs</th>\n",
       "      <th>test_loss</th>\n",
       "      <th>test_mean_squared_error</th>\n",
       "      <th>time_taken</th>\n",
       "      <th>time_taken_per_epoch</th>\n",
       "      <th>params</th>\n",
       "    </tr>\n",
       "  </thead>\n",
       "  <tbody>\n",
       "    <tr>\n",
       "      <th>1</th>\n",
       "      <td>TabTransformerModel</td>\n",
       "      <td>271 T</td>\n",
       "      <td>25</td>\n",
       "      <td>98.116257</td>\n",
       "      <td>98.116257</td>\n",
       "      <td>45.991377</td>\n",
       "      <td>1.839655</td>\n",
       "      <td>{'task': 'regression', 'head': 'LinearHead', '...</td>\n",
       "    </tr>\n",
       "    <tr>\n",
       "      <th>0</th>\n",
       "      <td>TabNetModel</td>\n",
       "      <td>11 T</td>\n",
       "      <td>25</td>\n",
       "      <td>127.765312</td>\n",
       "      <td>127.765312</td>\n",
       "      <td>232.025002</td>\n",
       "      <td>9.281000</td>\n",
       "      <td>{'task': 'regression', 'head': 'LinearHead', '...</td>\n",
       "    </tr>\n",
       "  </tbody>\n",
       "</table>\n",
       "</div>"
      ],
      "text/plain": [
       "                 model # Params  epochs   test_loss  test_mean_squared_error  \\\n",
       "1  TabTransformerModel    271 T      25   98.116257                98.116257   \n",
       "0          TabNetModel     11 T      25  127.765312               127.765312   \n",
       "\n",
       "   time_taken  time_taken_per_epoch  \\\n",
       "1   45.991377              1.839655   \n",
       "0  232.025002              9.281000   \n",
       "\n",
       "                                              params  \n",
       "1  {'task': 'regression', 'head': 'LinearHead', '...  \n",
       "0  {'task': 'regression', 'head': 'LinearHead', '...  "
      ]
     },
     "execution_count": 39,
     "metadata": {},
     "output_type": "execute_result"
    }
   ],
   "source": [
    "sweep_df"
   ]
  },
  {
   "cell_type": "code",
   "execution_count": 37,
   "metadata": {},
   "outputs": [
    {
     "data": {
      "text/html": [
       "<style type=\"text/css\">\n",
       "#T_b709f_row0_col2, #T_b709f_row0_col4, #T_b709f_row2_col3 {\n",
       "  background-color: #006837;\n",
       "  color: #f1f1f1;\n",
       "}\n",
       "#T_b709f_row0_col3, #T_b709f_row1_col4, #T_b709f_row2_col2 {\n",
       "  background-color: #a50026;\n",
       "  color: #f1f1f1;\n",
       "}\n",
       "#T_b709f_row1_col2 {\n",
       "  background-color: #eb5a3a;\n",
       "  color: #f1f1f1;\n",
       "}\n",
       "#T_b709f_row1_col3 {\n",
       "  background-color: #4eb15d;\n",
       "  color: #f1f1f1;\n",
       "}\n",
       "#T_b709f_row2_col4 {\n",
       "  background-color: #e65036;\n",
       "  color: #f1f1f1;\n",
       "}\n",
       "</style>\n",
       "<table id=\"T_b709f\">\n",
       "  <thead>\n",
       "    <tr>\n",
       "      <th class=\"blank level0\" >&nbsp;</th>\n",
       "      <th id=\"T_b709f_level0_col0\" class=\"col_heading level0 col0\" >model</th>\n",
       "      <th id=\"T_b709f_level0_col1\" class=\"col_heading level0 col1\" ># Params</th>\n",
       "      <th id=\"T_b709f_level0_col2\" class=\"col_heading level0 col2\" >test_loss</th>\n",
       "      <th id=\"T_b709f_level0_col3\" class=\"col_heading level0 col3\" >test_mean_squared_error</th>\n",
       "      <th id=\"T_b709f_level0_col4\" class=\"col_heading level0 col4\" >time_taken_per_epoch</th>\n",
       "    </tr>\n",
       "  </thead>\n",
       "  <tbody>\n",
       "    <tr>\n",
       "      <th id=\"T_b709f_level0_row0\" class=\"row_heading level0 row0\" >2</th>\n",
       "      <td id=\"T_b709f_row0_col0\" class=\"data row0 col0\" >TabTransformerModel</td>\n",
       "      <td id=\"T_b709f_row0_col1\" class=\"data row0 col1\" >271 T</td>\n",
       "      <td id=\"T_b709f_row0_col2\" class=\"data row0 col2\" >97.847755</td>\n",
       "      <td id=\"T_b709f_row0_col3\" class=\"data row0 col3\" >97.847755</td>\n",
       "      <td id=\"T_b709f_row0_col4\" class=\"data row0 col4\" >1.903631</td>\n",
       "    </tr>\n",
       "    <tr>\n",
       "      <th id=\"T_b709f_level0_row1\" class=\"row_heading level0 row1\" >0</th>\n",
       "      <td id=\"T_b709f_row1_col0\" class=\"data row1 col0\" >TabNetModel</td>\n",
       "      <td id=\"T_b709f_row1_col1\" class=\"data row1 col1\" >65 T</td>\n",
       "      <td id=\"T_b709f_row1_col2\" class=\"data row1 col2\" >115.400337</td>\n",
       "      <td id=\"T_b709f_row1_col3\" class=\"data row1 col3\" >115.400337</td>\n",
       "      <td id=\"T_b709f_row1_col4\" class=\"data row1 col4\" >10.850818</td>\n",
       "    </tr>\n",
       "    <tr>\n",
       "      <th id=\"T_b709f_level0_row2\" class=\"row_heading level0 row2\" >1</th>\n",
       "      <td id=\"T_b709f_row2_col0\" class=\"data row2 col0\" >TabNetModel</td>\n",
       "      <td id=\"T_b709f_row2_col1\" class=\"data row2 col1\" >11 T</td>\n",
       "      <td id=\"T_b709f_row2_col2\" class=\"data row2 col2\" >119.003838</td>\n",
       "      <td id=\"T_b709f_row2_col3\" class=\"data row2 col3\" >119.003838</td>\n",
       "      <td id=\"T_b709f_row2_col4\" class=\"data row2 col4\" >9.465802</td>\n",
       "    </tr>\n",
       "  </tbody>\n",
       "</table>\n"
      ],
      "text/plain": [
       "<pandas.io.formats.style.Styler at 0x175c7a090>"
      ]
     },
     "execution_count": 37,
     "metadata": {},
     "output_type": "execute_result"
    }
   ],
   "source": [
    "sweep_df.drop(columns=[\"params\", \"time_taken\", \"epochs\"]).style.background_gradient(\n",
    "    subset=[\"test_mean_squared_error\"], cmap=\"RdYlGn\"\n",
    ").background_gradient(subset=[\"time_taken_per_epoch\", \"test_loss\"], cmap=\"RdYlGn_r\")"
   ]
  }
 ],
 "metadata": {
  "kernelspec": {
   "display_name": "base",
   "language": "python",
   "name": "python3"
  },
  "language_info": {
   "codemirror_mode": {
    "name": "ipython",
    "version": 3
   },
   "file_extension": ".py",
   "mimetype": "text/x-python",
   "name": "python",
   "nbconvert_exporter": "python",
   "pygments_lexer": "ipython3",
   "version": "3.11.4"
  }
 },
 "nbformat": 4,
 "nbformat_minor": 2
}
